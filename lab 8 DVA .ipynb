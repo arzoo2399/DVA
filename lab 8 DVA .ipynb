{
 "cells": [
  {
   "cell_type": "code",
   "execution_count": 1,
   "id": "japanese-maine",
   "metadata": {},
   "outputs": [],
   "source": [
    "import pandas as pd \n",
    "import matplotlib.pyplot as plt "
   ]
  },
  {
   "cell_type": "code",
   "execution_count": 2,
   "id": "amino-provincial",
   "metadata": {},
   "outputs": [],
   "source": [
    "plt.style.use('fivethirtyeight')\n",
    "plt.show()"
   ]
  },
  {
   "cell_type": "code",
   "execution_count": 3,
   "id": "mounted-courage",
   "metadata": {},
   "outputs": [],
   "source": [
    "df = pd.read_csv(\"amazon_stock.csv\")"
   ]
  },
  {
   "cell_type": "markdown",
   "id": "freelance-compact",
   "metadata": {},
   "source": [
    "### Inspect top 10 rows"
   ]
  },
  {
   "cell_type": "code",
   "execution_count": 4,
   "id": "forbidden-multiple",
   "metadata": {},
   "outputs": [
    {
     "data": {
      "text/html": [
       "<div>\n",
       "<style scoped>\n",
       "    .dataframe tbody tr th:only-of-type {\n",
       "        vertical-align: middle;\n",
       "    }\n",
       "\n",
       "    .dataframe tbody tr th {\n",
       "        vertical-align: top;\n",
       "    }\n",
       "\n",
       "    .dataframe thead th {\n",
       "        text-align: right;\n",
       "    }\n",
       "</style>\n",
       "<table border=\"1\" class=\"dataframe\">\n",
       "  <thead>\n",
       "    <tr style=\"text-align: right;\">\n",
       "      <th></th>\n",
       "      <th>None</th>\n",
       "      <th>ticker</th>\n",
       "      <th>Date</th>\n",
       "      <th>Open</th>\n",
       "      <th>High</th>\n",
       "      <th>Low</th>\n",
       "      <th>Close</th>\n",
       "      <th>Volume</th>\n",
       "      <th>Adj_Close</th>\n",
       "    </tr>\n",
       "  </thead>\n",
       "  <tbody>\n",
       "    <tr>\n",
       "      <th>0</th>\n",
       "      <td>0</td>\n",
       "      <td>AMZN</td>\n",
       "      <td>3/27/2018</td>\n",
       "      <td>1572.40</td>\n",
       "      <td>1575.96</td>\n",
       "      <td>1482.32</td>\n",
       "      <td>1497.05</td>\n",
       "      <td>6793279</td>\n",
       "      <td>1497.05</td>\n",
       "    </tr>\n",
       "    <tr>\n",
       "      <th>1</th>\n",
       "      <td>1</td>\n",
       "      <td>AMZN</td>\n",
       "      <td>3/26/2018</td>\n",
       "      <td>1530.00</td>\n",
       "      <td>1556.99</td>\n",
       "      <td>1499.25</td>\n",
       "      <td>1555.86</td>\n",
       "      <td>5547618</td>\n",
       "      <td>1555.86</td>\n",
       "    </tr>\n",
       "    <tr>\n",
       "      <th>2</th>\n",
       "      <td>2</td>\n",
       "      <td>AMZN</td>\n",
       "      <td>3/23/2018</td>\n",
       "      <td>1539.01</td>\n",
       "      <td>1549.02</td>\n",
       "      <td>1495.36</td>\n",
       "      <td>1495.56</td>\n",
       "      <td>7843966</td>\n",
       "      <td>1495.56</td>\n",
       "    </tr>\n",
       "    <tr>\n",
       "      <th>3</th>\n",
       "      <td>3</td>\n",
       "      <td>AMZN</td>\n",
       "      <td>3/22/2018</td>\n",
       "      <td>1565.47</td>\n",
       "      <td>1573.85</td>\n",
       "      <td>1542.40</td>\n",
       "      <td>1544.10</td>\n",
       "      <td>6177737</td>\n",
       "      <td>1544.10</td>\n",
       "    </tr>\n",
       "    <tr>\n",
       "      <th>4</th>\n",
       "      <td>4</td>\n",
       "      <td>AMZN</td>\n",
       "      <td>3/21/2018</td>\n",
       "      <td>1586.45</td>\n",
       "      <td>1590.00</td>\n",
       "      <td>1563.17</td>\n",
       "      <td>1581.86</td>\n",
       "      <td>4667291</td>\n",
       "      <td>1581.86</td>\n",
       "    </tr>\n",
       "    <tr>\n",
       "      <th>5</th>\n",
       "      <td>5</td>\n",
       "      <td>AMZN</td>\n",
       "      <td>3/20/2018</td>\n",
       "      <td>1550.34</td>\n",
       "      <td>1587.00</td>\n",
       "      <td>1545.41</td>\n",
       "      <td>1586.51</td>\n",
       "      <td>4507049</td>\n",
       "      <td>1586.51</td>\n",
       "    </tr>\n",
       "    <tr>\n",
       "      <th>6</th>\n",
       "      <td>6</td>\n",
       "      <td>AMZN</td>\n",
       "      <td>3/19/2018</td>\n",
       "      <td>1554.53</td>\n",
       "      <td>1561.66</td>\n",
       "      <td>1525.35</td>\n",
       "      <td>1544.93</td>\n",
       "      <td>6376619</td>\n",
       "      <td>1544.93</td>\n",
       "    </tr>\n",
       "    <tr>\n",
       "      <th>7</th>\n",
       "      <td>7</td>\n",
       "      <td>AMZN</td>\n",
       "      <td>3/16/2018</td>\n",
       "      <td>1583.45</td>\n",
       "      <td>1589.44</td>\n",
       "      <td>1567.50</td>\n",
       "      <td>1571.68</td>\n",
       "      <td>5145054</td>\n",
       "      <td>1571.68</td>\n",
       "    </tr>\n",
       "    <tr>\n",
       "      <th>8</th>\n",
       "      <td>8</td>\n",
       "      <td>AMZN</td>\n",
       "      <td>3/15/2018</td>\n",
       "      <td>1595.00</td>\n",
       "      <td>1596.91</td>\n",
       "      <td>1578.11</td>\n",
       "      <td>1582.32</td>\n",
       "      <td>4026744</td>\n",
       "      <td>1582.32</td>\n",
       "    </tr>\n",
       "    <tr>\n",
       "      <th>9</th>\n",
       "      <td>9</td>\n",
       "      <td>AMZN</td>\n",
       "      <td>3/14/2018</td>\n",
       "      <td>1597.00</td>\n",
       "      <td>1606.44</td>\n",
       "      <td>1590.89</td>\n",
       "      <td>1591.00</td>\n",
       "      <td>4164395</td>\n",
       "      <td>1591.00</td>\n",
       "    </tr>\n",
       "  </tbody>\n",
       "</table>\n",
       "</div>"
      ],
      "text/plain": [
       "   None ticker       Date     Open     High      Low    Close   Volume  \\\n",
       "0     0   AMZN  3/27/2018  1572.40  1575.96  1482.32  1497.05  6793279   \n",
       "1     1   AMZN  3/26/2018  1530.00  1556.99  1499.25  1555.86  5547618   \n",
       "2     2   AMZN  3/23/2018  1539.01  1549.02  1495.36  1495.56  7843966   \n",
       "3     3   AMZN  3/22/2018  1565.47  1573.85  1542.40  1544.10  6177737   \n",
       "4     4   AMZN  3/21/2018  1586.45  1590.00  1563.17  1581.86  4667291   \n",
       "5     5   AMZN  3/20/2018  1550.34  1587.00  1545.41  1586.51  4507049   \n",
       "6     6   AMZN  3/19/2018  1554.53  1561.66  1525.35  1544.93  6376619   \n",
       "7     7   AMZN  3/16/2018  1583.45  1589.44  1567.50  1571.68  5145054   \n",
       "8     8   AMZN  3/15/2018  1595.00  1596.91  1578.11  1582.32  4026744   \n",
       "9     9   AMZN  3/14/2018  1597.00  1606.44  1590.89  1591.00  4164395   \n",
       "\n",
       "   Adj_Close  \n",
       "0    1497.05  \n",
       "1    1555.86  \n",
       "2    1495.56  \n",
       "3    1544.10  \n",
       "4    1581.86  \n",
       "5    1586.51  \n",
       "6    1544.93  \n",
       "7    1571.68  \n",
       "8    1582.32  \n",
       "9    1591.00  "
      ]
     },
     "execution_count": 4,
     "metadata": {},
     "output_type": "execute_result"
    }
   ],
   "source": [
    "df.head(10)"
   ]
  },
  {
   "cell_type": "markdown",
   "id": "dense-focus",
   "metadata": {},
   "source": [
    "### Remove unwanted columns\n",
    "\n",
    "Remove first two columns (None and ticker) as they don’t add any value to the dataset. Then, print head() to check if removed"
   ]
  },
  {
   "cell_type": "code",
   "execution_count": 5,
   "id": "dressed-astronomy",
   "metadata": {},
   "outputs": [
    {
     "data": {
      "text/html": [
       "<div>\n",
       "<style scoped>\n",
       "    .dataframe tbody tr th:only-of-type {\n",
       "        vertical-align: middle;\n",
       "    }\n",
       "\n",
       "    .dataframe tbody tr th {\n",
       "        vertical-align: top;\n",
       "    }\n",
       "\n",
       "    .dataframe thead th {\n",
       "        text-align: right;\n",
       "    }\n",
       "</style>\n",
       "<table border=\"1\" class=\"dataframe\">\n",
       "  <thead>\n",
       "    <tr style=\"text-align: right;\">\n",
       "      <th></th>\n",
       "      <th>Date</th>\n",
       "      <th>Open</th>\n",
       "      <th>High</th>\n",
       "      <th>Low</th>\n",
       "      <th>Close</th>\n",
       "      <th>Volume</th>\n",
       "      <th>Adj_Close</th>\n",
       "    </tr>\n",
       "  </thead>\n",
       "  <tbody>\n",
       "    <tr>\n",
       "      <th>0</th>\n",
       "      <td>3/27/2018</td>\n",
       "      <td>1572.40</td>\n",
       "      <td>1575.96</td>\n",
       "      <td>1482.32</td>\n",
       "      <td>1497.05</td>\n",
       "      <td>6793279</td>\n",
       "      <td>1497.05</td>\n",
       "    </tr>\n",
       "    <tr>\n",
       "      <th>1</th>\n",
       "      <td>3/26/2018</td>\n",
       "      <td>1530.00</td>\n",
       "      <td>1556.99</td>\n",
       "      <td>1499.25</td>\n",
       "      <td>1555.86</td>\n",
       "      <td>5547618</td>\n",
       "      <td>1555.86</td>\n",
       "    </tr>\n",
       "    <tr>\n",
       "      <th>2</th>\n",
       "      <td>3/23/2018</td>\n",
       "      <td>1539.01</td>\n",
       "      <td>1549.02</td>\n",
       "      <td>1495.36</td>\n",
       "      <td>1495.56</td>\n",
       "      <td>7843966</td>\n",
       "      <td>1495.56</td>\n",
       "    </tr>\n",
       "    <tr>\n",
       "      <th>3</th>\n",
       "      <td>3/22/2018</td>\n",
       "      <td>1565.47</td>\n",
       "      <td>1573.85</td>\n",
       "      <td>1542.40</td>\n",
       "      <td>1544.10</td>\n",
       "      <td>6177737</td>\n",
       "      <td>1544.10</td>\n",
       "    </tr>\n",
       "    <tr>\n",
       "      <th>4</th>\n",
       "      <td>3/21/2018</td>\n",
       "      <td>1586.45</td>\n",
       "      <td>1590.00</td>\n",
       "      <td>1563.17</td>\n",
       "      <td>1581.86</td>\n",
       "      <td>4667291</td>\n",
       "      <td>1581.86</td>\n",
       "    </tr>\n",
       "  </tbody>\n",
       "</table>\n",
       "</div>"
      ],
      "text/plain": [
       "        Date     Open     High      Low    Close   Volume  Adj_Close\n",
       "0  3/27/2018  1572.40  1575.96  1482.32  1497.05  6793279    1497.05\n",
       "1  3/26/2018  1530.00  1556.99  1499.25  1555.86  5547618    1555.86\n",
       "2  3/23/2018  1539.01  1549.02  1495.36  1495.56  7843966    1495.56\n",
       "3  3/22/2018  1565.47  1573.85  1542.40  1544.10  6177737    1544.10\n",
       "4  3/21/2018  1586.45  1590.00  1563.17  1581.86  4667291    1581.86"
      ]
     },
     "execution_count": 5,
     "metadata": {},
     "output_type": "execute_result"
    }
   ],
   "source": [
    "df=df.drop(['None','ticker'],axis=1)\n",
    "df.head()"
   ]
  },
  {
   "cell_type": "code",
   "execution_count": 6,
   "id": "featured-minnesota",
   "metadata": {},
   "outputs": [
    {
     "name": "stdout",
     "output_type": "stream",
     "text": [
      "<class 'pandas.core.frame.DataFrame'>\n",
      "RangeIndex: 1316 entries, 0 to 1315\n",
      "Data columns (total 7 columns):\n",
      " #   Column     Non-Null Count  Dtype  \n",
      "---  ------     --------------  -----  \n",
      " 0   Date       1316 non-null   object \n",
      " 1   Open       1316 non-null   float64\n",
      " 2   High       1316 non-null   float64\n",
      " 3   Low        1316 non-null   float64\n",
      " 4   Close      1316 non-null   float64\n",
      " 5   Volume     1316 non-null   int64  \n",
      " 6   Adj_Close  1316 non-null   float64\n",
      "dtypes: float64(5), int64(1), object(1)\n",
      "memory usage: 72.1+ KB\n"
     ]
    }
   ],
   "source": [
    "df.info()"
   ]
  },
  {
   "cell_type": "markdown",
   "id": "injured-representative",
   "metadata": {},
   "source": [
    "### Convert \"Date\" string column into actual Date object"
   ]
  },
  {
   "cell_type": "code",
   "execution_count": 7,
   "id": "pointed-class",
   "metadata": {},
   "outputs": [
    {
     "name": "stdout",
     "output_type": "stream",
     "text": [
      "<class 'pandas.core.frame.DataFrame'>\n",
      "RangeIndex: 1316 entries, 0 to 1315\n",
      "Data columns (total 7 columns):\n",
      " #   Column     Non-Null Count  Dtype         \n",
      "---  ------     --------------  -----         \n",
      " 0   Date       1316 non-null   datetime64[ns]\n",
      " 1   Open       1316 non-null   float64       \n",
      " 2   High       1316 non-null   float64       \n",
      " 3   Low        1316 non-null   float64       \n",
      " 4   Close      1316 non-null   float64       \n",
      " 5   Volume     1316 non-null   int64         \n",
      " 6   Adj_Close  1316 non-null   float64       \n",
      "dtypes: datetime64[ns](1), float64(5), int64(1)\n",
      "memory usage: 72.1 KB\n"
     ]
    }
   ],
   "source": [
    "df['Date']=pd.to_datetime(df['Date'])\n",
    "df.info()"
   ]
  },
  {
   "cell_type": "markdown",
   "id": "living-ebony",
   "metadata": {},
   "source": [
    "### Let us check our data once again, with head()"
   ]
  },
  {
   "cell_type": "code",
   "execution_count": 8,
   "id": "secondary-framework",
   "metadata": {},
   "outputs": [
    {
     "data": {
      "text/html": [
       "<div>\n",
       "<style scoped>\n",
       "    .dataframe tbody tr th:only-of-type {\n",
       "        vertical-align: middle;\n",
       "    }\n",
       "\n",
       "    .dataframe tbody tr th {\n",
       "        vertical-align: top;\n",
       "    }\n",
       "\n",
       "    .dataframe thead th {\n",
       "        text-align: right;\n",
       "    }\n",
       "</style>\n",
       "<table border=\"1\" class=\"dataframe\">\n",
       "  <thead>\n",
       "    <tr style=\"text-align: right;\">\n",
       "      <th></th>\n",
       "      <th>Date</th>\n",
       "      <th>Open</th>\n",
       "      <th>High</th>\n",
       "      <th>Low</th>\n",
       "      <th>Close</th>\n",
       "      <th>Volume</th>\n",
       "      <th>Adj_Close</th>\n",
       "    </tr>\n",
       "  </thead>\n",
       "  <tbody>\n",
       "    <tr>\n",
       "      <th>0</th>\n",
       "      <td>2018-03-27</td>\n",
       "      <td>1572.40</td>\n",
       "      <td>1575.96</td>\n",
       "      <td>1482.32</td>\n",
       "      <td>1497.05</td>\n",
       "      <td>6793279</td>\n",
       "      <td>1497.05</td>\n",
       "    </tr>\n",
       "    <tr>\n",
       "      <th>1</th>\n",
       "      <td>2018-03-26</td>\n",
       "      <td>1530.00</td>\n",
       "      <td>1556.99</td>\n",
       "      <td>1499.25</td>\n",
       "      <td>1555.86</td>\n",
       "      <td>5547618</td>\n",
       "      <td>1555.86</td>\n",
       "    </tr>\n",
       "    <tr>\n",
       "      <th>2</th>\n",
       "      <td>2018-03-23</td>\n",
       "      <td>1539.01</td>\n",
       "      <td>1549.02</td>\n",
       "      <td>1495.36</td>\n",
       "      <td>1495.56</td>\n",
       "      <td>7843966</td>\n",
       "      <td>1495.56</td>\n",
       "    </tr>\n",
       "    <tr>\n",
       "      <th>3</th>\n",
       "      <td>2018-03-22</td>\n",
       "      <td>1565.47</td>\n",
       "      <td>1573.85</td>\n",
       "      <td>1542.40</td>\n",
       "      <td>1544.10</td>\n",
       "      <td>6177737</td>\n",
       "      <td>1544.10</td>\n",
       "    </tr>\n",
       "    <tr>\n",
       "      <th>4</th>\n",
       "      <td>2018-03-21</td>\n",
       "      <td>1586.45</td>\n",
       "      <td>1590.00</td>\n",
       "      <td>1563.17</td>\n",
       "      <td>1581.86</td>\n",
       "      <td>4667291</td>\n",
       "      <td>1581.86</td>\n",
       "    </tr>\n",
       "  </tbody>\n",
       "</table>\n",
       "</div>"
      ],
      "text/plain": [
       "        Date     Open     High      Low    Close   Volume  Adj_Close\n",
       "0 2018-03-27  1572.40  1575.96  1482.32  1497.05  6793279    1497.05\n",
       "1 2018-03-26  1530.00  1556.99  1499.25  1555.86  5547618    1555.86\n",
       "2 2018-03-23  1539.01  1549.02  1495.36  1495.56  7843966    1495.56\n",
       "3 2018-03-22  1565.47  1573.85  1542.40  1544.10  6177737    1544.10\n",
       "4 2018-03-21  1586.45  1590.00  1563.17  1581.86  4667291    1581.86"
      ]
     },
     "execution_count": 8,
     "metadata": {},
     "output_type": "execute_result"
    }
   ],
   "source": [
    "df.head()"
   ]
  },
  {
   "cell_type": "markdown",
   "id": "asian-things",
   "metadata": {},
   "source": [
    "### Set Date object to be index\n",
    "\n",
    "Here Date is one of the columns. But we want date to be the index. So, set Date as index for the data frame. Make inplace=True"
   ]
  },
  {
   "cell_type": "code",
   "execution_count": 9,
   "id": "earlier-bahrain",
   "metadata": {},
   "outputs": [
    {
     "data": {
      "text/html": [
       "<div>\n",
       "<style scoped>\n",
       "    .dataframe tbody tr th:only-of-type {\n",
       "        vertical-align: middle;\n",
       "    }\n",
       "\n",
       "    .dataframe tbody tr th {\n",
       "        vertical-align: top;\n",
       "    }\n",
       "\n",
       "    .dataframe thead th {\n",
       "        text-align: right;\n",
       "    }\n",
       "</style>\n",
       "<table border=\"1\" class=\"dataframe\">\n",
       "  <thead>\n",
       "    <tr style=\"text-align: right;\">\n",
       "      <th></th>\n",
       "      <th>Open</th>\n",
       "      <th>High</th>\n",
       "      <th>Low</th>\n",
       "      <th>Close</th>\n",
       "      <th>Volume</th>\n",
       "      <th>Adj_Close</th>\n",
       "    </tr>\n",
       "    <tr>\n",
       "      <th>Date</th>\n",
       "      <th></th>\n",
       "      <th></th>\n",
       "      <th></th>\n",
       "      <th></th>\n",
       "      <th></th>\n",
       "      <th></th>\n",
       "    </tr>\n",
       "  </thead>\n",
       "  <tbody>\n",
       "    <tr>\n",
       "      <th>2018-03-27</th>\n",
       "      <td>1572.40</td>\n",
       "      <td>1575.96</td>\n",
       "      <td>1482.32</td>\n",
       "      <td>1497.05</td>\n",
       "      <td>6793279</td>\n",
       "      <td>1497.05</td>\n",
       "    </tr>\n",
       "    <tr>\n",
       "      <th>2018-03-26</th>\n",
       "      <td>1530.00</td>\n",
       "      <td>1556.99</td>\n",
       "      <td>1499.25</td>\n",
       "      <td>1555.86</td>\n",
       "      <td>5547618</td>\n",
       "      <td>1555.86</td>\n",
       "    </tr>\n",
       "    <tr>\n",
       "      <th>2018-03-23</th>\n",
       "      <td>1539.01</td>\n",
       "      <td>1549.02</td>\n",
       "      <td>1495.36</td>\n",
       "      <td>1495.56</td>\n",
       "      <td>7843966</td>\n",
       "      <td>1495.56</td>\n",
       "    </tr>\n",
       "    <tr>\n",
       "      <th>2018-03-22</th>\n",
       "      <td>1565.47</td>\n",
       "      <td>1573.85</td>\n",
       "      <td>1542.40</td>\n",
       "      <td>1544.10</td>\n",
       "      <td>6177737</td>\n",
       "      <td>1544.10</td>\n",
       "    </tr>\n",
       "    <tr>\n",
       "      <th>2018-03-21</th>\n",
       "      <td>1586.45</td>\n",
       "      <td>1590.00</td>\n",
       "      <td>1563.17</td>\n",
       "      <td>1581.86</td>\n",
       "      <td>4667291</td>\n",
       "      <td>1581.86</td>\n",
       "    </tr>\n",
       "  </tbody>\n",
       "</table>\n",
       "</div>"
      ],
      "text/plain": [
       "               Open     High      Low    Close   Volume  Adj_Close\n",
       "Date                                                              \n",
       "2018-03-27  1572.40  1575.96  1482.32  1497.05  6793279    1497.05\n",
       "2018-03-26  1530.00  1556.99  1499.25  1555.86  5547618    1555.86\n",
       "2018-03-23  1539.01  1549.02  1495.36  1495.56  7843966    1495.56\n",
       "2018-03-22  1565.47  1573.85  1542.40  1544.10  6177737    1544.10\n",
       "2018-03-21  1586.45  1590.00  1563.17  1581.86  4667291    1581.86"
      ]
     },
     "execution_count": 9,
     "metadata": {},
     "output_type": "execute_result"
    }
   ],
   "source": [
    "df.set_index('Date',inplace=True)\n",
    "\n",
    "df.head()"
   ]
  },
  {
   "cell_type": "markdown",
   "id": "industrial-legislation",
   "metadata": {},
   "source": [
    "### Understand Stock Data¶"
   ]
  },
  {
   "cell_type": "code",
   "execution_count": 10,
   "id": "threatened-heater",
   "metadata": {},
   "outputs": [
    {
     "data": {
      "text/plain": [
       "<AxesSubplot:title={'center':'Adjusted Closing Price'}, xlabel='Date'>"
      ]
     },
     "execution_count": 10,
     "metadata": {},
     "output_type": "execute_result"
    },
    {
     "data": {
      "image/png": "[encoded data removed]",
      "text/plain": [
       "<Figure size 864x432 with 1 Axes>"
      ]
     },
     "metadata": {},
     "output_type": "display_data"
    }
   ],
   "source": [
    "df['Adj_Close'].plot(figsize=(12,6),title='Adjusted Closing Price')"
   ]
  },
  {
   "cell_type": "markdown",
   "id": "neither-jamaica",
   "metadata": {},
   "source": [
    "### Understand DateTimeIndex\n",
    "\n",
    "##### Introduction to datetime module\n",
    "\n",
    "Python’s basic tools for working with dates and times reside in the built-in datetime module. In pandas, a single point in time is represented as a pandas.Timestamp and we can use the datetime() function to create datetime objects from strings in a wide variety of date/time formats. datetimes are interchangeable with pandas.Timestamp"
   ]
  },
  {
   "cell_type": "code",
   "execution_count": 11,
   "id": "filled-falls",
   "metadata": {},
   "outputs": [
    {
     "data": {
      "text/plain": [
       "datetime.datetime(2020, 5, 1, 0, 0)"
      ]
     },
     "execution_count": 11,
     "metadata": {},
     "output_type": "execute_result"
    }
   ],
   "source": [
    "from datetime import datetime\n",
    "\n",
    "my_year = 2020\n",
    "my_month = 5\n",
    "my_day = 1\n",
    "my_hour = 13\n",
    "my_minute = 36\n",
    "my_second = 45\n",
    "\n",
    "test_date = datetime(my_year,my_month,my_day)\n",
    "test_date"
   ]
  },
  {
   "cell_type": "code",
   "execution_count": 12,
   "id": "necessary-partnership",
   "metadata": {},
   "outputs": [],
   "source": [
    "test_date = datetime(my_year, my_month, my_day, my_hour, my_minute, my_second)"
   ]
  },
  {
   "cell_type": "code",
   "execution_count": 13,
   "id": "chemical-andorra",
   "metadata": {},
   "outputs": [
    {
     "name": "stdout",
     "output_type": "stream",
     "text": [
      "The day is :    1\n",
      "The hour is :   13\n",
      "The month is :  5\n"
     ]
    }
   ],
   "source": [
    "print(\"The day is :   \",test_date.day) \n",
    "print(\"The hour is :  \",test_date.hour) \n",
    "print(\"The month is : \",test_date.month)"
   ]
  },
  {
   "cell_type": "markdown",
   "id": "modern-apparel",
   "metadata": {},
   "source": [
    "### Find minimum and maximum dates from data frame, call info() method"
   ]
  },
  {
   "cell_type": "code",
   "execution_count": 14,
   "id": "fitted-expert",
   "metadata": {},
   "outputs": [
    {
     "name": "stdout",
     "output_type": "stream",
     "text": [
      "<class 'pandas.core.frame.DataFrame'>\n",
      "DatetimeIndex: 1316 entries, 2018-03-27 to 2013-01-02\n",
      "Data columns (total 6 columns):\n",
      " #   Column     Non-Null Count  Dtype  \n",
      "---  ------     --------------  -----  \n",
      " 0   Open       1316 non-null   float64\n",
      " 1   High       1316 non-null   float64\n",
      " 2   Low        1316 non-null   float64\n",
      " 3   Close      1316 non-null   float64\n",
      " 4   Volume     1316 non-null   int64  \n",
      " 5   Adj_Close  1316 non-null   float64\n",
      "dtypes: float64(5), int64(1)\n",
      "memory usage: 72.0 KB\n"
     ]
    }
   ],
   "source": [
    "df.info()"
   ]
  },
  {
   "cell_type": "markdown",
   "id": "imposed-server",
   "metadata": {},
   "source": [
    "### Print minimum and maximum index value of dataframe"
   ]
  },
  {
   "cell_type": "code",
   "execution_count": 15,
   "id": "stopped-forwarding",
   "metadata": {},
   "outputs": [
    {
     "name": "stdout",
     "output_type": "stream",
     "text": [
      "2013-01-02 00:00:00\n",
      "2018-03-27 00:00:00\n"
     ]
    }
   ],
   "source": [
    "print(df.index.min())\n",
    "print(df.index.max())"
   ]
  },
  {
   "cell_type": "markdown",
   "id": "under-palace",
   "metadata": {},
   "source": [
    "### Retrieve index of earliest and latest dates using argmin and argmax"
   ]
  },
  {
   "cell_type": "code",
   "execution_count": 16,
   "id": "spoken-attribute",
   "metadata": {},
   "outputs": [
    {
     "data": {
      "text/plain": [
       "1315"
      ]
     },
     "execution_count": 16,
     "metadata": {},
     "output_type": "execute_result"
    }
   ],
   "source": [
    "df.index.argmin()"
   ]
  },
  {
   "cell_type": "code",
   "execution_count": 17,
   "id": "timely-stocks",
   "metadata": {},
   "outputs": [
    {
     "data": {
      "text/plain": [
       "0"
      ]
     },
     "execution_count": 17,
     "metadata": {},
     "output_type": "execute_result"
    }
   ],
   "source": [
    "df.index.argmax()"
   ]
  },
  {
   "cell_type": "markdown",
   "id": "identified-parish",
   "metadata": {},
   "source": [
    "## 1.Resampling Operation"
   ]
  },
  {
   "cell_type": "markdown",
   "id": "administrative-folder",
   "metadata": {},
   "source": [
    "### Resample data with year end frequency (\"Y\") with average stock price"
   ]
  },
  {
   "cell_type": "code",
   "execution_count": 18,
   "id": "motivated-amazon",
   "metadata": {},
   "outputs": [
    {
     "data": {
      "text/html": [
       "<div>\n",
       "<style scoped>\n",
       "    .dataframe tbody tr th:only-of-type {\n",
       "        vertical-align: middle;\n",
       "    }\n",
       "\n",
       "    .dataframe tbody tr th {\n",
       "        vertical-align: top;\n",
       "    }\n",
       "\n",
       "    .dataframe thead th {\n",
       "        text-align: right;\n",
       "    }\n",
       "</style>\n",
       "<table border=\"1\" class=\"dataframe\">\n",
       "  <thead>\n",
       "    <tr style=\"text-align: right;\">\n",
       "      <th></th>\n",
       "      <th>Open</th>\n",
       "      <th>High</th>\n",
       "      <th>Low</th>\n",
       "      <th>Close</th>\n",
       "      <th>Volume</th>\n",
       "      <th>Adj_Close</th>\n",
       "    </tr>\n",
       "    <tr>\n",
       "      <th>Date</th>\n",
       "      <th></th>\n",
       "      <th></th>\n",
       "      <th></th>\n",
       "      <th></th>\n",
       "      <th></th>\n",
       "      <th></th>\n",
       "    </tr>\n",
       "  </thead>\n",
       "  <tbody>\n",
       "    <tr>\n",
       "      <th>2013-12-31</th>\n",
       "      <td>297.877223</td>\n",
       "      <td>300.925966</td>\n",
       "      <td>294.656658</td>\n",
       "      <td>298.032235</td>\n",
       "      <td>2.967880e+06</td>\n",
       "      <td>298.032235</td>\n",
       "    </tr>\n",
       "    <tr>\n",
       "      <th>2014-12-31</th>\n",
       "      <td>332.798433</td>\n",
       "      <td>336.317462</td>\n",
       "      <td>328.545440</td>\n",
       "      <td>332.550976</td>\n",
       "      <td>4.083223e+06</td>\n",
       "      <td>332.550976</td>\n",
       "    </tr>\n",
       "    <tr>\n",
       "      <th>2015-12-31</th>\n",
       "      <td>478.126230</td>\n",
       "      <td>483.248272</td>\n",
       "      <td>472.875443</td>\n",
       "      <td>478.137321</td>\n",
       "      <td>3.797801e+06</td>\n",
       "      <td>478.137321</td>\n",
       "    </tr>\n",
       "    <tr>\n",
       "      <th>2016-12-31</th>\n",
       "      <td>699.669762</td>\n",
       "      <td>705.799103</td>\n",
       "      <td>692.646189</td>\n",
       "      <td>699.523135</td>\n",
       "      <td>4.122043e+06</td>\n",
       "      <td>699.523135</td>\n",
       "    </tr>\n",
       "    <tr>\n",
       "      <th>2017-12-31</th>\n",
       "      <td>967.565060</td>\n",
       "      <td>973.789752</td>\n",
       "      <td>959.991826</td>\n",
       "      <td>967.403996</td>\n",
       "      <td>3.466207e+06</td>\n",
       "      <td>967.403996</td>\n",
       "    </tr>\n",
       "    <tr>\n",
       "      <th>2018-12-31</th>\n",
       "      <td>1429.770000</td>\n",
       "      <td>1446.701017</td>\n",
       "      <td>1409.469661</td>\n",
       "      <td>1429.991186</td>\n",
       "      <td>5.586829e+06</td>\n",
       "      <td>1429.991186</td>\n",
       "    </tr>\n",
       "  </tbody>\n",
       "</table>\n",
       "</div>"
      ],
      "text/plain": [
       "                   Open         High          Low        Close        Volume  \\\n",
       "Date                                                                           \n",
       "2013-12-31   297.877223   300.925966   294.656658   298.032235  2.967880e+06   \n",
       "2014-12-31   332.798433   336.317462   328.545440   332.550976  4.083223e+06   \n",
       "2015-12-31   478.126230   483.248272   472.875443   478.137321  3.797801e+06   \n",
       "2016-12-31   699.669762   705.799103   692.646189   699.523135  4.122043e+06   \n",
       "2017-12-31   967.565060   973.789752   959.991826   967.403996  3.466207e+06   \n",
       "2018-12-31  1429.770000  1446.701017  1409.469661  1429.991186  5.586829e+06   \n",
       "\n",
       "              Adj_Close  \n",
       "Date                     \n",
       "2013-12-31   298.032235  \n",
       "2014-12-31   332.550976  \n",
       "2015-12-31   478.137321  \n",
       "2016-12-31   699.523135  \n",
       "2017-12-31   967.403996  \n",
       "2018-12-31  1429.991186  "
      ]
     },
     "execution_count": 18,
     "metadata": {},
     "output_type": "execute_result"
    }
   ],
   "source": [
    "df.resample('Y').mean()"
   ]
  },
  {
   "cell_type": "markdown",
   "id": "located-cliff",
   "metadata": {},
   "source": [
    "### Plot a bar chart to show the yearly (Use \"A\") mean adjusted close price"
   ]
  },
  {
   "cell_type": "code",
   "execution_count": 19,
   "id": "known-retrieval",
   "metadata": {},
   "outputs": [
    {
     "data": {
      "image/png": "[encoded data removed]",
      "text/plain": [
       "<Figure size 720x288 with 1 Axes>"
      ]
     },
     "metadata": {},
     "output_type": "display_data"
    }
   ],
   "source": [
    "df['Adj_Close'].resample('A').mean().plot(kind='bar',figsize=(10,4))\n",
    "plt.title('Yearly Mean Adj Close Price for Amazon')\n",
    "plt.show()"
   ]
  },
  {
   "cell_type": "markdown",
   "id": "coordinate-sequence",
   "metadata": {},
   "source": [
    "### Plot bar chart to show monthly maximum (Use \"MS\") opening price for all years"
   ]
  },
  {
   "cell_type": "code",
   "execution_count": 31,
   "id": "foster-winner",
   "metadata": {},
   "outputs": [
    {
     "data": {
      "image/png": "[encoded data removed]",
      "text/plain": [
       "<Figure size 720x288 with 1 Axes>"
      ]
     },
     "metadata": {},
     "output_type": "display_data"
    }
   ],
   "source": [
    "df['Open'].resample('MS').max().plot(kind='bar',figsize=(10,4))\n",
    "plt.title('Monthly Maximum Opening Price for Amazon')\n",
    "plt.show()"
   ]
  },
  {
   "cell_type": "markdown",
   "id": "composed-edward",
   "metadata": {},
   "source": [
    "### Plot bar chart of Quarterly (Use \"Q\") Average Volume for all years"
   ]
  },
  {
   "cell_type": "code",
   "execution_count": 21,
   "id": "complicated-password",
   "metadata": {},
   "outputs": [
    {
     "data": {
      "image/png": "[encoded data removed]",
      "text/plain": [
       "<Figure size 720x288 with 1 Axes>"
      ]
     },
     "metadata": {},
     "output_type": "display_data"
    }
   ],
   "source": [
    "df['Volume'].resample('Q').mean().plot(kind='bar', figsize=(10, 4))\n",
    "plt.title('Quaterly Average Volume for Amazon')\n",
    "plt.show()"
   ]
  },
  {
   "cell_type": "markdown",
   "id": "extreme-catch",
   "metadata": {},
   "source": [
    "## 2.Time Shifting Operations\n",
    "\n",
    "#### Shifting data forward and backward\n",
    "#### Show head of data"
   ]
  },
  {
   "cell_type": "code",
   "execution_count": 22,
   "id": "sorted-madagascar",
   "metadata": {},
   "outputs": [
    {
     "data": {
      "text/html": [
       "<div>\n",
       "<style scoped>\n",
       "    .dataframe tbody tr th:only-of-type {\n",
       "        vertical-align: middle;\n",
       "    }\n",
       "\n",
       "    .dataframe tbody tr th {\n",
       "        vertical-align: top;\n",
       "    }\n",
       "\n",
       "    .dataframe thead th {\n",
       "        text-align: right;\n",
       "    }\n",
       "</style>\n",
       "<table border=\"1\" class=\"dataframe\">\n",
       "  <thead>\n",
       "    <tr style=\"text-align: right;\">\n",
       "      <th></th>\n",
       "      <th>Open</th>\n",
       "      <th>High</th>\n",
       "      <th>Low</th>\n",
       "      <th>Close</th>\n",
       "      <th>Volume</th>\n",
       "      <th>Adj_Close</th>\n",
       "    </tr>\n",
       "    <tr>\n",
       "      <th>Date</th>\n",
       "      <th></th>\n",
       "      <th></th>\n",
       "      <th></th>\n",
       "      <th></th>\n",
       "      <th></th>\n",
       "      <th></th>\n",
       "    </tr>\n",
       "  </thead>\n",
       "  <tbody>\n",
       "    <tr>\n",
       "      <th>2018-03-27</th>\n",
       "      <td>1572.40</td>\n",
       "      <td>1575.96</td>\n",
       "      <td>1482.32</td>\n",
       "      <td>1497.05</td>\n",
       "      <td>6793279</td>\n",
       "      <td>1497.05</td>\n",
       "    </tr>\n",
       "    <tr>\n",
       "      <th>2018-03-26</th>\n",
       "      <td>1530.00</td>\n",
       "      <td>1556.99</td>\n",
       "      <td>1499.25</td>\n",
       "      <td>1555.86</td>\n",
       "      <td>5547618</td>\n",
       "      <td>1555.86</td>\n",
       "    </tr>\n",
       "    <tr>\n",
       "      <th>2018-03-23</th>\n",
       "      <td>1539.01</td>\n",
       "      <td>1549.02</td>\n",
       "      <td>1495.36</td>\n",
       "      <td>1495.56</td>\n",
       "      <td>7843966</td>\n",
       "      <td>1495.56</td>\n",
       "    </tr>\n",
       "    <tr>\n",
       "      <th>2018-03-22</th>\n",
       "      <td>1565.47</td>\n",
       "      <td>1573.85</td>\n",
       "      <td>1542.40</td>\n",
       "      <td>1544.10</td>\n",
       "      <td>6177737</td>\n",
       "      <td>1544.10</td>\n",
       "    </tr>\n",
       "    <tr>\n",
       "      <th>2018-03-21</th>\n",
       "      <td>1586.45</td>\n",
       "      <td>1590.00</td>\n",
       "      <td>1563.17</td>\n",
       "      <td>1581.86</td>\n",
       "      <td>4667291</td>\n",
       "      <td>1581.86</td>\n",
       "    </tr>\n",
       "  </tbody>\n",
       "</table>\n",
       "</div>"
      ],
      "text/plain": [
       "               Open     High      Low    Close   Volume  Adj_Close\n",
       "Date                                                              \n",
       "2018-03-27  1572.40  1575.96  1482.32  1497.05  6793279    1497.05\n",
       "2018-03-26  1530.00  1556.99  1499.25  1555.86  5547618    1555.86\n",
       "2018-03-23  1539.01  1549.02  1495.36  1495.56  7843966    1495.56\n",
       "2018-03-22  1565.47  1573.85  1542.40  1544.10  6177737    1544.10\n",
       "2018-03-21  1586.45  1590.00  1563.17  1581.86  4667291    1581.86"
      ]
     },
     "execution_count": 22,
     "metadata": {},
     "output_type": "execute_result"
    }
   ],
   "source": [
    "df.head()"
   ]
  },
  {
   "cell_type": "markdown",
   "id": "headed-board",
   "metadata": {},
   "source": [
    "### Shift data by 1 Day forward¶"
   ]
  },
  {
   "cell_type": "code",
   "execution_count": 23,
   "id": "interior-offset",
   "metadata": {},
   "outputs": [
    {
     "data": {
      "text/html": [
       "<div>\n",
       "<style scoped>\n",
       "    .dataframe tbody tr th:only-of-type {\n",
       "        vertical-align: middle;\n",
       "    }\n",
       "\n",
       "    .dataframe tbody tr th {\n",
       "        vertical-align: top;\n",
       "    }\n",
       "\n",
       "    .dataframe thead th {\n",
       "        text-align: right;\n",
       "    }\n",
       "</style>\n",
       "<table border=\"1\" class=\"dataframe\">\n",
       "  <thead>\n",
       "    <tr style=\"text-align: right;\">\n",
       "      <th></th>\n",
       "      <th>Open</th>\n",
       "      <th>High</th>\n",
       "      <th>Low</th>\n",
       "      <th>Close</th>\n",
       "      <th>Volume</th>\n",
       "      <th>Adj_Close</th>\n",
       "    </tr>\n",
       "    <tr>\n",
       "      <th>Date</th>\n",
       "      <th></th>\n",
       "      <th></th>\n",
       "      <th></th>\n",
       "      <th></th>\n",
       "      <th></th>\n",
       "      <th></th>\n",
       "    </tr>\n",
       "  </thead>\n",
       "  <tbody>\n",
       "    <tr>\n",
       "      <th>2018-03-27</th>\n",
       "      <td>NaN</td>\n",
       "      <td>NaN</td>\n",
       "      <td>NaN</td>\n",
       "      <td>NaN</td>\n",
       "      <td>NaN</td>\n",
       "      <td>NaN</td>\n",
       "    </tr>\n",
       "    <tr>\n",
       "      <th>2018-03-26</th>\n",
       "      <td>1572.40</td>\n",
       "      <td>1575.96</td>\n",
       "      <td>1482.32</td>\n",
       "      <td>1497.05</td>\n",
       "      <td>6793279.0</td>\n",
       "      <td>1497.05</td>\n",
       "    </tr>\n",
       "    <tr>\n",
       "      <th>2018-03-23</th>\n",
       "      <td>1530.00</td>\n",
       "      <td>1556.99</td>\n",
       "      <td>1499.25</td>\n",
       "      <td>1555.86</td>\n",
       "      <td>5547618.0</td>\n",
       "      <td>1555.86</td>\n",
       "    </tr>\n",
       "    <tr>\n",
       "      <th>2018-03-22</th>\n",
       "      <td>1539.01</td>\n",
       "      <td>1549.02</td>\n",
       "      <td>1495.36</td>\n",
       "      <td>1495.56</td>\n",
       "      <td>7843966.0</td>\n",
       "      <td>1495.56</td>\n",
       "    </tr>\n",
       "    <tr>\n",
       "      <th>2018-03-21</th>\n",
       "      <td>1565.47</td>\n",
       "      <td>1573.85</td>\n",
       "      <td>1542.40</td>\n",
       "      <td>1544.10</td>\n",
       "      <td>6177737.0</td>\n",
       "      <td>1544.10</td>\n",
       "    </tr>\n",
       "  </tbody>\n",
       "</table>\n",
       "</div>"
      ],
      "text/plain": [
       "               Open     High      Low    Close     Volume  Adj_Close\n",
       "Date                                                                \n",
       "2018-03-27      NaN      NaN      NaN      NaN        NaN        NaN\n",
       "2018-03-26  1572.40  1575.96  1482.32  1497.05  6793279.0    1497.05\n",
       "2018-03-23  1530.00  1556.99  1499.25  1555.86  5547618.0    1555.86\n",
       "2018-03-22  1539.01  1549.02  1495.36  1495.56  7843966.0    1495.56\n",
       "2018-03-21  1565.47  1573.85  1542.40  1544.10  6177737.0    1544.10"
      ]
     },
     "execution_count": 23,
     "metadata": {},
     "output_type": "execute_result"
    }
   ],
   "source": [
    "df.shift(1).head()"
   ]
  },
  {
   "cell_type": "markdown",
   "id": "fresh-vegetarian",
   "metadata": {},
   "source": [
    "### Shift data by 1 Day backward¶"
   ]
  },
  {
   "cell_type": "code",
   "execution_count": 24,
   "id": "heavy-pontiac",
   "metadata": {},
   "outputs": [
    {
     "data": {
      "text/html": [
       "<div>\n",
       "<style scoped>\n",
       "    .dataframe tbody tr th:only-of-type {\n",
       "        vertical-align: middle;\n",
       "    }\n",
       "\n",
       "    .dataframe tbody tr th {\n",
       "        vertical-align: top;\n",
       "    }\n",
       "\n",
       "    .dataframe thead th {\n",
       "        text-align: right;\n",
       "    }\n",
       "</style>\n",
       "<table border=\"1\" class=\"dataframe\">\n",
       "  <thead>\n",
       "    <tr style=\"text-align: right;\">\n",
       "      <th></th>\n",
       "      <th>Open</th>\n",
       "      <th>High</th>\n",
       "      <th>Low</th>\n",
       "      <th>Close</th>\n",
       "      <th>Volume</th>\n",
       "      <th>Adj_Close</th>\n",
       "    </tr>\n",
       "    <tr>\n",
       "      <th>Date</th>\n",
       "      <th></th>\n",
       "      <th></th>\n",
       "      <th></th>\n",
       "      <th></th>\n",
       "      <th></th>\n",
       "      <th></th>\n",
       "    </tr>\n",
       "  </thead>\n",
       "  <tbody>\n",
       "    <tr>\n",
       "      <th>2018-03-27</th>\n",
       "      <td>1530.00</td>\n",
       "      <td>1556.99</td>\n",
       "      <td>1499.25</td>\n",
       "      <td>1555.86</td>\n",
       "      <td>5547618.0</td>\n",
       "      <td>1555.86</td>\n",
       "    </tr>\n",
       "    <tr>\n",
       "      <th>2018-03-26</th>\n",
       "      <td>1539.01</td>\n",
       "      <td>1549.02</td>\n",
       "      <td>1495.36</td>\n",
       "      <td>1495.56</td>\n",
       "      <td>7843966.0</td>\n",
       "      <td>1495.56</td>\n",
       "    </tr>\n",
       "    <tr>\n",
       "      <th>2018-03-23</th>\n",
       "      <td>1565.47</td>\n",
       "      <td>1573.85</td>\n",
       "      <td>1542.40</td>\n",
       "      <td>1544.10</td>\n",
       "      <td>6177737.0</td>\n",
       "      <td>1544.10</td>\n",
       "    </tr>\n",
       "    <tr>\n",
       "      <th>2018-03-22</th>\n",
       "      <td>1586.45</td>\n",
       "      <td>1590.00</td>\n",
       "      <td>1563.17</td>\n",
       "      <td>1581.86</td>\n",
       "      <td>4667291.0</td>\n",
       "      <td>1581.86</td>\n",
       "    </tr>\n",
       "    <tr>\n",
       "      <th>2018-03-21</th>\n",
       "      <td>1550.34</td>\n",
       "      <td>1587.00</td>\n",
       "      <td>1545.41</td>\n",
       "      <td>1586.51</td>\n",
       "      <td>4507049.0</td>\n",
       "      <td>1586.51</td>\n",
       "    </tr>\n",
       "  </tbody>\n",
       "</table>\n",
       "</div>"
      ],
      "text/plain": [
       "               Open     High      Low    Close     Volume  Adj_Close\n",
       "Date                                                                \n",
       "2018-03-27  1530.00  1556.99  1499.25  1555.86  5547618.0    1555.86\n",
       "2018-03-26  1539.01  1549.02  1495.36  1495.56  7843966.0    1495.56\n",
       "2018-03-23  1565.47  1573.85  1542.40  1544.10  6177737.0    1544.10\n",
       "2018-03-22  1586.45  1590.00  1563.17  1581.86  4667291.0    1581.86\n",
       "2018-03-21  1550.34  1587.00  1545.41  1586.51  4507049.0    1586.51"
      ]
     },
     "execution_count": 24,
     "metadata": {},
     "output_type": "execute_result"
    }
   ],
   "source": [
    "df.shift(-1).head()"
   ]
  },
  {
   "cell_type": "markdown",
   "id": "alike-collective",
   "metadata": {},
   "source": [
    "### Shifting Time Index"
   ]
  },
  {
   "cell_type": "code",
   "execution_count": 25,
   "id": "previous-image",
   "metadata": {},
   "outputs": [
    {
     "data": {
      "text/html": [
       "<div>\n",
       "<style scoped>\n",
       "    .dataframe tbody tr th:only-of-type {\n",
       "        vertical-align: middle;\n",
       "    }\n",
       "\n",
       "    .dataframe tbody tr th {\n",
       "        vertical-align: top;\n",
       "    }\n",
       "\n",
       "    .dataframe thead th {\n",
       "        text-align: right;\n",
       "    }\n",
       "</style>\n",
       "<table border=\"1\" class=\"dataframe\">\n",
       "  <thead>\n",
       "    <tr style=\"text-align: right;\">\n",
       "      <th></th>\n",
       "      <th>Open</th>\n",
       "      <th>High</th>\n",
       "      <th>Low</th>\n",
       "      <th>Close</th>\n",
       "      <th>Volume</th>\n",
       "      <th>Adj_Close</th>\n",
       "    </tr>\n",
       "    <tr>\n",
       "      <th>Date</th>\n",
       "      <th></th>\n",
       "      <th></th>\n",
       "      <th></th>\n",
       "      <th></th>\n",
       "      <th></th>\n",
       "      <th></th>\n",
       "    </tr>\n",
       "  </thead>\n",
       "  <tbody>\n",
       "    <tr>\n",
       "      <th>2018-03-27</th>\n",
       "      <td>1572.40</td>\n",
       "      <td>1575.96</td>\n",
       "      <td>1482.32</td>\n",
       "      <td>1497.05</td>\n",
       "      <td>6793279</td>\n",
       "      <td>1497.05</td>\n",
       "    </tr>\n",
       "    <tr>\n",
       "      <th>2018-03-26</th>\n",
       "      <td>1530.00</td>\n",
       "      <td>1556.99</td>\n",
       "      <td>1499.25</td>\n",
       "      <td>1555.86</td>\n",
       "      <td>5547618</td>\n",
       "      <td>1555.86</td>\n",
       "    </tr>\n",
       "    <tr>\n",
       "      <th>2018-03-23</th>\n",
       "      <td>1539.01</td>\n",
       "      <td>1549.02</td>\n",
       "      <td>1495.36</td>\n",
       "      <td>1495.56</td>\n",
       "      <td>7843966</td>\n",
       "      <td>1495.56</td>\n",
       "    </tr>\n",
       "    <tr>\n",
       "      <th>2018-03-22</th>\n",
       "      <td>1565.47</td>\n",
       "      <td>1573.85</td>\n",
       "      <td>1542.40</td>\n",
       "      <td>1544.10</td>\n",
       "      <td>6177737</td>\n",
       "      <td>1544.10</td>\n",
       "    </tr>\n",
       "    <tr>\n",
       "      <th>2018-03-21</th>\n",
       "      <td>1586.45</td>\n",
       "      <td>1590.00</td>\n",
       "      <td>1563.17</td>\n",
       "      <td>1581.86</td>\n",
       "      <td>4667291</td>\n",
       "      <td>1581.86</td>\n",
       "    </tr>\n",
       "    <tr>\n",
       "      <th>2018-03-20</th>\n",
       "      <td>1550.34</td>\n",
       "      <td>1587.00</td>\n",
       "      <td>1545.41</td>\n",
       "      <td>1586.51</td>\n",
       "      <td>4507049</td>\n",
       "      <td>1586.51</td>\n",
       "    </tr>\n",
       "    <tr>\n",
       "      <th>2018-03-19</th>\n",
       "      <td>1554.53</td>\n",
       "      <td>1561.66</td>\n",
       "      <td>1525.35</td>\n",
       "      <td>1544.93</td>\n",
       "      <td>6376619</td>\n",
       "      <td>1544.93</td>\n",
       "    </tr>\n",
       "    <tr>\n",
       "      <th>2018-03-16</th>\n",
       "      <td>1583.45</td>\n",
       "      <td>1589.44</td>\n",
       "      <td>1567.50</td>\n",
       "      <td>1571.68</td>\n",
       "      <td>5145054</td>\n",
       "      <td>1571.68</td>\n",
       "    </tr>\n",
       "    <tr>\n",
       "      <th>2018-03-15</th>\n",
       "      <td>1595.00</td>\n",
       "      <td>1596.91</td>\n",
       "      <td>1578.11</td>\n",
       "      <td>1582.32</td>\n",
       "      <td>4026744</td>\n",
       "      <td>1582.32</td>\n",
       "    </tr>\n",
       "    <tr>\n",
       "      <th>2018-03-14</th>\n",
       "      <td>1597.00</td>\n",
       "      <td>1606.44</td>\n",
       "      <td>1590.89</td>\n",
       "      <td>1591.00</td>\n",
       "      <td>4164395</td>\n",
       "      <td>1591.00</td>\n",
       "    </tr>\n",
       "  </tbody>\n",
       "</table>\n",
       "</div>"
      ],
      "text/plain": [
       "               Open     High      Low    Close   Volume  Adj_Close\n",
       "Date                                                              \n",
       "2018-03-27  1572.40  1575.96  1482.32  1497.05  6793279    1497.05\n",
       "2018-03-26  1530.00  1556.99  1499.25  1555.86  5547618    1555.86\n",
       "2018-03-23  1539.01  1549.02  1495.36  1495.56  7843966    1495.56\n",
       "2018-03-22  1565.47  1573.85  1542.40  1544.10  6177737    1544.10\n",
       "2018-03-21  1586.45  1590.00  1563.17  1581.86  4667291    1581.86\n",
       "2018-03-20  1550.34  1587.00  1545.41  1586.51  4507049    1586.51\n",
       "2018-03-19  1554.53  1561.66  1525.35  1544.93  6376619    1544.93\n",
       "2018-03-16  1583.45  1589.44  1567.50  1571.68  5145054    1571.68\n",
       "2018-03-15  1595.00  1596.91  1578.11  1582.32  4026744    1582.32\n",
       "2018-03-14  1597.00  1606.44  1590.89  1591.00  4164395    1591.00"
      ]
     },
     "execution_count": 25,
     "metadata": {},
     "output_type": "execute_result"
    }
   ],
   "source": [
    "df.head(10)"
   ]
  },
  {
   "cell_type": "markdown",
   "id": "broke-touch",
   "metadata": {},
   "source": [
    "### Shift Time Index by 3 Months\n"
   ]
  },
  {
   "cell_type": "code",
   "execution_count": 26,
   "id": "stretch-kinase",
   "metadata": {},
   "outputs": [
    {
     "name": "stderr",
     "output_type": "stream",
     "text": [
      "<ipython-input-26-95bf196d5da5>:1: FutureWarning: tshift is deprecated and will be removed in a future version. Please use shift instead.\n",
      "  df.tshift(periods=3,freq='M').head()\n"
     ]
    },
    {
     "data": {
      "text/html": [
       "<div>\n",
       "<style scoped>\n",
       "    .dataframe tbody tr th:only-of-type {\n",
       "        vertical-align: middle;\n",
       "    }\n",
       "\n",
       "    .dataframe tbody tr th {\n",
       "        vertical-align: top;\n",
       "    }\n",
       "\n",
       "    .dataframe thead th {\n",
       "        text-align: right;\n",
       "    }\n",
       "</style>\n",
       "<table border=\"1\" class=\"dataframe\">\n",
       "  <thead>\n",
       "    <tr style=\"text-align: right;\">\n",
       "      <th></th>\n",
       "      <th>Open</th>\n",
       "      <th>High</th>\n",
       "      <th>Low</th>\n",
       "      <th>Close</th>\n",
       "      <th>Volume</th>\n",
       "      <th>Adj_Close</th>\n",
       "    </tr>\n",
       "    <tr>\n",
       "      <th>Date</th>\n",
       "      <th></th>\n",
       "      <th></th>\n",
       "      <th></th>\n",
       "      <th></th>\n",
       "      <th></th>\n",
       "      <th></th>\n",
       "    </tr>\n",
       "  </thead>\n",
       "  <tbody>\n",
       "    <tr>\n",
       "      <th>2018-05-31</th>\n",
       "      <td>1572.40</td>\n",
       "      <td>1575.96</td>\n",
       "      <td>1482.32</td>\n",
       "      <td>1497.05</td>\n",
       "      <td>6793279</td>\n",
       "      <td>1497.05</td>\n",
       "    </tr>\n",
       "    <tr>\n",
       "      <th>2018-05-31</th>\n",
       "      <td>1530.00</td>\n",
       "      <td>1556.99</td>\n",
       "      <td>1499.25</td>\n",
       "      <td>1555.86</td>\n",
       "      <td>5547618</td>\n",
       "      <td>1555.86</td>\n",
       "    </tr>\n",
       "    <tr>\n",
       "      <th>2018-05-31</th>\n",
       "      <td>1539.01</td>\n",
       "      <td>1549.02</td>\n",
       "      <td>1495.36</td>\n",
       "      <td>1495.56</td>\n",
       "      <td>7843966</td>\n",
       "      <td>1495.56</td>\n",
       "    </tr>\n",
       "    <tr>\n",
       "      <th>2018-05-31</th>\n",
       "      <td>1565.47</td>\n",
       "      <td>1573.85</td>\n",
       "      <td>1542.40</td>\n",
       "      <td>1544.10</td>\n",
       "      <td>6177737</td>\n",
       "      <td>1544.10</td>\n",
       "    </tr>\n",
       "    <tr>\n",
       "      <th>2018-05-31</th>\n",
       "      <td>1586.45</td>\n",
       "      <td>1590.00</td>\n",
       "      <td>1563.17</td>\n",
       "      <td>1581.86</td>\n",
       "      <td>4667291</td>\n",
       "      <td>1581.86</td>\n",
       "    </tr>\n",
       "  </tbody>\n",
       "</table>\n",
       "</div>"
      ],
      "text/plain": [
       "               Open     High      Low    Close   Volume  Adj_Close\n",
       "Date                                                              \n",
       "2018-05-31  1572.40  1575.96  1482.32  1497.05  6793279    1497.05\n",
       "2018-05-31  1530.00  1556.99  1499.25  1555.86  5547618    1555.86\n",
       "2018-05-31  1539.01  1549.02  1495.36  1495.56  7843966    1495.56\n",
       "2018-05-31  1565.47  1573.85  1542.40  1544.10  6177737    1544.10\n",
       "2018-05-31  1586.45  1590.00  1563.17  1581.86  4667291    1581.86"
      ]
     },
     "execution_count": 26,
     "metadata": {},
     "output_type": "execute_result"
    }
   ],
   "source": [
    "df.tshift(periods=3,freq='M').head()"
   ]
  },
  {
   "cell_type": "markdown",
   "id": "vietnamese-break",
   "metadata": {},
   "source": [
    "### Application: Computing Return on investment"
   ]
  },
  {
   "cell_type": "code",
   "execution_count": 27,
   "id": "dental-luxury",
   "metadata": {},
   "outputs": [
    {
     "name": "stderr",
     "output_type": "stream",
     "text": [
      "<ipython-input-27-e90d55975215>:1: FutureWarning: tshift is deprecated and will be removed in a future version. Please use shift instead.\n",
      "  ROI = 100 * (df['Adj_Close'].tshift(periods=-365, freq = 'D') / df['Adj_Close'] - 1)\n"
     ]
    },
    {
     "data": {
      "text/plain": [
       "Text(0, 0.5, '% Return on Investment')"
      ]
     },
     "execution_count": 27,
     "metadata": {},
     "output_type": "execute_result"
    },
    {
     "data": {
      "image/png": "[encoded data removed]",
      "text/plain": [
       "<Figure size 1152x576 with 1 Axes>"
      ]
     },
     "metadata": {},
     "output_type": "display_data"
    }
   ],
   "source": [
    "ROI = 100 * (df['Adj_Close'].tshift(periods=-365, freq = 'D') / df['Adj_Close'] - 1)\n",
    "ROI.plot(figsize=(16,8))\n",
    "plt.ylabel('% Return on Investment')"
   ]
  },
  {
   "cell_type": "markdown",
   "id": "corrected-method",
   "metadata": {},
   "source": [
    "## 3.Rolling Window or Moving Window Operations"
   ]
  },
  {
   "cell_type": "code",
   "execution_count": 28,
   "id": "natural-playing",
   "metadata": {},
   "outputs": [
    {
     "data": {
      "text/plain": [
       "<AxesSubplot:xlabel='Date'>"
      ]
     },
     "execution_count": 28,
     "metadata": {},
     "output_type": "execute_result"
    },
    {
     "data": {
      "image/png": "[encoded data removed]",
      "text/plain": [
       "<Figure size 864x576 with 1 Axes>"
      ]
     },
     "metadata": {},
     "output_type": "display_data"
    }
   ],
   "source": [
    "df['Adj_Close'].plot(figsize = (12,8), color='red')"
   ]
  },
  {
   "cell_type": "markdown",
   "id": "weekly-rainbow",
   "metadata": {},
   "source": [
    "### Find rolling mean for 7 days and show top-10 rows"
   ]
  },
  {
   "cell_type": "code",
   "execution_count": 29,
   "id": "strong-casino",
   "metadata": {},
   "outputs": [
    {
     "data": {
      "text/html": [
       "<div>\n",
       "<style scoped>\n",
       "    .dataframe tbody tr th:only-of-type {\n",
       "        vertical-align: middle;\n",
       "    }\n",
       "\n",
       "    .dataframe tbody tr th {\n",
       "        vertical-align: top;\n",
       "    }\n",
       "\n",
       "    .dataframe thead th {\n",
       "        text-align: right;\n",
       "    }\n",
       "</style>\n",
       "<table border=\"1\" class=\"dataframe\">\n",
       "  <thead>\n",
       "    <tr style=\"text-align: right;\">\n",
       "      <th></th>\n",
       "      <th>Open</th>\n",
       "      <th>High</th>\n",
       "      <th>Low</th>\n",
       "      <th>Close</th>\n",
       "      <th>Volume</th>\n",
       "      <th>Adj_Close</th>\n",
       "    </tr>\n",
       "    <tr>\n",
       "      <th>Date</th>\n",
       "      <th></th>\n",
       "      <th></th>\n",
       "      <th></th>\n",
       "      <th></th>\n",
       "      <th></th>\n",
       "      <th></th>\n",
       "    </tr>\n",
       "  </thead>\n",
       "  <tbody>\n",
       "    <tr>\n",
       "      <th>2018-03-27</th>\n",
       "      <td>NaN</td>\n",
       "      <td>NaN</td>\n",
       "      <td>NaN</td>\n",
       "      <td>NaN</td>\n",
       "      <td>NaN</td>\n",
       "      <td>NaN</td>\n",
       "    </tr>\n",
       "    <tr>\n",
       "      <th>2018-03-26</th>\n",
       "      <td>NaN</td>\n",
       "      <td>NaN</td>\n",
       "      <td>NaN</td>\n",
       "      <td>NaN</td>\n",
       "      <td>NaN</td>\n",
       "      <td>NaN</td>\n",
       "    </tr>\n",
       "    <tr>\n",
       "      <th>2018-03-23</th>\n",
       "      <td>NaN</td>\n",
       "      <td>NaN</td>\n",
       "      <td>NaN</td>\n",
       "      <td>NaN</td>\n",
       "      <td>NaN</td>\n",
       "      <td>NaN</td>\n",
       "    </tr>\n",
       "    <tr>\n",
       "      <th>2018-03-22</th>\n",
       "      <td>NaN</td>\n",
       "      <td>NaN</td>\n",
       "      <td>NaN</td>\n",
       "      <td>NaN</td>\n",
       "      <td>NaN</td>\n",
       "      <td>NaN</td>\n",
       "    </tr>\n",
       "    <tr>\n",
       "      <th>2018-03-21</th>\n",
       "      <td>NaN</td>\n",
       "      <td>NaN</td>\n",
       "      <td>NaN</td>\n",
       "      <td>NaN</td>\n",
       "      <td>NaN</td>\n",
       "      <td>NaN</td>\n",
       "    </tr>\n",
       "    <tr>\n",
       "      <th>2018-03-20</th>\n",
       "      <td>NaN</td>\n",
       "      <td>NaN</td>\n",
       "      <td>NaN</td>\n",
       "      <td>NaN</td>\n",
       "      <td>NaN</td>\n",
       "      <td>NaN</td>\n",
       "    </tr>\n",
       "    <tr>\n",
       "      <th>2018-03-19</th>\n",
       "      <td>1556.885714</td>\n",
       "      <td>1570.640000</td>\n",
       "      <td>1521.894286</td>\n",
       "      <td>1543.695714</td>\n",
       "      <td>5.987651e+06</td>\n",
       "      <td>1543.695714</td>\n",
       "    </tr>\n",
       "    <tr>\n",
       "      <th>2018-03-16</th>\n",
       "      <td>1558.464286</td>\n",
       "      <td>1572.565714</td>\n",
       "      <td>1534.062857</td>\n",
       "      <td>1554.357143</td>\n",
       "      <td>5.752191e+06</td>\n",
       "      <td>1554.357143</td>\n",
       "    </tr>\n",
       "    <tr>\n",
       "      <th>2018-03-15</th>\n",
       "      <td>1567.750000</td>\n",
       "      <td>1578.268571</td>\n",
       "      <td>1545.328571</td>\n",
       "      <td>1558.137143</td>\n",
       "      <td>5.534923e+06</td>\n",
       "      <td>1558.137143</td>\n",
       "    </tr>\n",
       "    <tr>\n",
       "      <th>2018-03-14</th>\n",
       "      <td>1576.034286</td>\n",
       "      <td>1586.471429</td>\n",
       "      <td>1558.975714</td>\n",
       "      <td>1571.771429</td>\n",
       "      <td>5.009270e+06</td>\n",
       "      <td>1571.771429</td>\n",
       "    </tr>\n",
       "  </tbody>\n",
       "</table>\n",
       "</div>"
      ],
      "text/plain": [
       "                   Open         High          Low        Close        Volume  \\\n",
       "Date                                                                           \n",
       "2018-03-27          NaN          NaN          NaN          NaN           NaN   \n",
       "2018-03-26          NaN          NaN          NaN          NaN           NaN   \n",
       "2018-03-23          NaN          NaN          NaN          NaN           NaN   \n",
       "2018-03-22          NaN          NaN          NaN          NaN           NaN   \n",
       "2018-03-21          NaN          NaN          NaN          NaN           NaN   \n",
       "2018-03-20          NaN          NaN          NaN          NaN           NaN   \n",
       "2018-03-19  1556.885714  1570.640000  1521.894286  1543.695714  5.987651e+06   \n",
       "2018-03-16  1558.464286  1572.565714  1534.062857  1554.357143  5.752191e+06   \n",
       "2018-03-15  1567.750000  1578.268571  1545.328571  1558.137143  5.534923e+06   \n",
       "2018-03-14  1576.034286  1586.471429  1558.975714  1571.771429  5.009270e+06   \n",
       "\n",
       "              Adj_Close  \n",
       "Date                     \n",
       "2018-03-27          NaN  \n",
       "2018-03-26          NaN  \n",
       "2018-03-23          NaN  \n",
       "2018-03-22          NaN  \n",
       "2018-03-21          NaN  \n",
       "2018-03-20          NaN  \n",
       "2018-03-19  1543.695714  \n",
       "2018-03-16  1554.357143  \n",
       "2018-03-15  1558.137143  \n",
       "2018-03-14  1571.771429  "
      ]
     },
     "execution_count": 29,
     "metadata": {},
     "output_type": "execute_result"
    }
   ],
   "source": [
    "df.rolling(7).mean().head(10)"
   ]
  },
  {
   "cell_type": "markdown",
   "id": "later-mention",
   "metadata": {},
   "source": [
    "### Plot a line char for \"Open\" column.\n",
    "#### Followed by, average rolling window of 30 days on the same \"Open\" column"
   ]
  },
  {
   "cell_type": "code",
   "execution_count": 30,
   "id": "another-pioneer",
   "metadata": {},
   "outputs": [
    {
     "data": {
      "text/plain": [
       "<AxesSubplot:xlabel='Date'>"
      ]
     },
     "execution_count": 30,
     "metadata": {},
     "output_type": "execute_result"
    },
    {
     "data": {
      "image/png": "[encoded data removed]",
      "text/plain": [
       "<Figure size 1152x432 with 1 Axes>"
      ]
     },
     "metadata": {},
     "output_type": "display_data"
    }
   ],
   "source": [
    "df['Open'].plot()\n",
    "df.rolling(window=30).mean()['Open'].plot(figsize=(16, 6))"
   ]
  }
 ],
 "metadata": {
  "kernelspec": {
   "display_name": "Python 3",
   "language": "python",
   "name": "python3"
  },
  "language_info": {
   "codemirror_mode": {
    "name": "ipython",
    "version": 3
   },
   "file_extension": ".py",
   "mimetype": "text/x-python",
   "name": "python",
   "nbconvert_exporter": "python",
   "pygments_lexer": "ipython3",
   "version": "3.9.1"
  }
 },
 "nbformat": 4,
 "nbformat_minor": 5
}
