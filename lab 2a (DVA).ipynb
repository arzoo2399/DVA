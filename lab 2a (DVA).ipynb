{
 "cells": [
  {
   "cell_type": "markdown",
   "id": "charming-tuesday",
   "metadata": {},
   "source": [
    "### Write a Python NumPy program that accepts student names and five marks (store in separate NumPy array). Calculate the total marks and percentage based on the input.\n",
    "### Display student names and marks, total and average "
   ]
  },
  {
   "cell_type": "code",
   "execution_count": 1,
   "id": "dedicated-phrase",
   "metadata": {},
   "outputs": [],
   "source": [
    "import numpy as np "
   ]
  },
  {
   "cell_type": "code",
   "execution_count": 2,
   "id": "eastern-words",
   "metadata": {},
   "outputs": [],
   "source": [
    "stuname = np.array([ ])\n",
    "ra = np.array([ ])\n",
    "dva = np.array([ ])\n",
    "pml = np.array([ ])\n",
    "nlp = np.array([ ])\n",
    "hcda = np.array([ ])"
   ]
  },
  {
   "cell_type": "code",
   "execution_count": 3,
   "id": "brave-advocacy",
   "metadata": {},
   "outputs": [
    {
     "name": "stdout",
     "output_type": "stream",
     "text": [
      "How many students?: 1\n"
     ]
    }
   ],
   "source": [
    "num = input(\"How many students?: \")"
   ]
  },
  {
   "cell_type": "code",
   "execution_count": 4,
   "id": "raising-pointer",
   "metadata": {},
   "outputs": [
    {
     "name": "stdout",
     "output_type": "stream",
     "text": [
      "name of student krish\n",
      "RA mark of the student 68\n",
      "DVA mark of the student 89\n",
      "PML mark of the student 72\n",
      "NLP mark of the student 61\n",
      "HCDA mark of the student 99\n"
     ]
    }
   ],
   "source": [
    "for i in num:\n",
    "    name = input(\"name of student \")\n",
    "    stuname = np.append(stuname,name)\n",
    "    mark = int(input(\"RA mark of the student \"))\n",
    "    ra = np.append(ra,mark)\n",
    "    mark = int(input(\"DVA mark of the student \"))\n",
    "    dva = np.append(dva,mark)\n",
    "    mark = int(input(\"PML mark of the student \"))\n",
    "    pml = np.append(pml,mark)\n",
    "    mark = int(input(\"NLP mark of the student \"))\n",
    "    nlp = np.append(nlp,mark)\n",
    "    mark = int(input(\"HCDA mark of the student \"))\n",
    "    hcda = np.append(hcda,mark)"
   ]
  },
  {
   "cell_type": "code",
   "execution_count": 9,
   "id": "mounted-celebrity",
   "metadata": {},
   "outputs": [],
   "source": [
    "for i in num:\n",
    "    total=ra+dva+pml+nlp+hcda\n",
    "    percent=float(total)/5.0\n",
    "    tot=total\n",
    "    per=percent\n",
    "    if(percent >=91 and percent <=100):\n",
    "        result=\"Your Grade is A+\";\n",
    "    elif(percent >=81 and percent <=90):\n",
    "        result=\"Your Grade is A\";\n",
    "    elif(percent >=71 and percent <=80):\n",
    "        result=\"Your Grade is B+\";\n",
    "    elif(percent >=61 and percent <=70):\n",
    "        result=\"Your Grade is B\";\n",
    "    elif(percent >=51 and percent <=60):\n",
    "        result=\"Your Grade is C+\";\n",
    "    elif(percent >=41 and percent <=50):\n",
    "        result=\"Your Grade is C\";\n",
    "    elif(percent >=0 and percent <=40):\n",
    "        result=\"Your Grade is F\";\n",
    "    else:\n",
    "        result=\"Strange Grade..!!\";"
   ]
  },
  {
   "cell_type": "code",
   "execution_count": 11,
   "id": "unlikely-drilling",
   "metadata": {},
   "outputs": [
    {
     "name": "stdout",
     "output_type": "stream",
     "text": [
      "Student Name : ['krish']\n",
      "Regression Analysis mark : [68.]\n",
      "Data Visual Analytics mark : [89.]\n",
      "Practical Machine Learning mark: [72.]\n",
      "Natural Language Processing mark: [61.]\n",
      "Health Care Data analytics mark: [99.]\n",
      "Total: [389.]\n",
      "Percentage: 77.8\n",
      "Grade: Your Grade is B+\n"
     ]
    }
   ],
   "source": [
    "for i in num:\n",
    "    print(\"Student Name :\" ,stuname)\n",
    "    print(\"Regression Analysis mark :\" ,ra)\n",
    "    print(\"Data Visual Analytics mark :\" ,dva)\n",
    "    print(\"Practical Machine Learning mark:\" ,pml)\n",
    "    print(\"Natural Language Processing mark:\" ,nlp)\n",
    "    print(\"Health Care Data analytics mark:\" ,hcda)\n",
    "    print(\"Total:\" , tot)\n",
    "    print(\"Percentage:\" , per)\n",
    "    print(\"Grade:\" , result)"
   ]
  }
 ],
 "metadata": {
  "kernelspec": {
   "display_name": "Python 3",
   "language": "python",
   "name": "python3"
  },
  "language_info": {
   "codemirror_mode": {
    "name": "ipython",
    "version": 3
   },
   "file_extension": ".py",
   "mimetype": "text/x-python",
   "name": "python",
   "nbconvert_exporter": "python",
   "pygments_lexer": "ipython3",
   "version": "3.9.1"
  }
 },
 "nbformat": 4,
 "nbformat_minor": 5
}
